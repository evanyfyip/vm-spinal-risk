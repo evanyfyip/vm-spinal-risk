{
 "cells": [
  {
   "cell_type": "code",
   "execution_count": 3,
   "id": "85262086",
   "metadata": {},
   "outputs": [],
   "source": [
    "import os\n",
    "import pandas as pd\n",
    "import numpy as np\n",
    "from statsmodels.stats.outliers_influence import variance_inflation_factor\n",
    "import matplotlib.pyplot as plt\n",
    "import seaborn as sns"
   ]
  },
  {
   "cell_type": "code",
   "execution_count": 2,
   "id": "d4a34a7d",
   "metadata": {},
   "outputs": [],
   "source": [
    "# Set working directory here\n",
    "WD = '/Users/johnmichael/Documents/vm-spinal-risk/vm-spinal-risk'"
   ]
  },
  {
   "cell_type": "code",
   "execution_count": null,
   "id": "8b67a79b",
   "metadata": {},
   "outputs": [],
   "source": []
  }
 ],
 "metadata": {
  "kernelspec": {
   "display_name": "Python 3 (ipykernel)",
   "language": "python",
   "name": "python3"
  },
  "language_info": {
   "codemirror_mode": {
    "name": "ipython",
    "version": 3
   },
   "file_extension": ".py",
   "mimetype": "text/x-python",
   "name": "python",
   "nbconvert_exporter": "python",
   "pygments_lexer": "ipython3",
   "version": "3.9.13"
  }
 },
 "nbformat": 4,
 "nbformat_minor": 5
}
