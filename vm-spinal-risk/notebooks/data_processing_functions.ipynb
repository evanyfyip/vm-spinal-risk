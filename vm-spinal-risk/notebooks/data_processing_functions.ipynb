{
 "cells": [
  {
   "cell_type": "code",
   "execution_count": 1,
   "id": "e9e37ddd",
   "metadata": {},
   "outputs": [
    {
     "data": {
      "text/plain": [
       "'c:\\\\Users\\\\james\\\\vm-spinal-risk\\\\vm-spinal-risk\\\\notebooks'"
      ]
     },
     "execution_count": 1,
     "metadata": {},
     "output_type": "execute_result"
    }
   ],
   "source": [
    "# standard\n",
    "import pandas as pd\n",
    "import numpy as np\n",
    "import os\n",
    "import sklearn\n",
    "\n",
    "# pipelining\n",
    "from sklearn.pipeline import Pipeline\n",
    "from sklearn.base import BaseEstimator, TransformerMixin\n",
    "from sklearn.impute import SimpleImputer\n",
    "from sklearn.preprocessing import OneHotEncoder, StandardScaler\n",
    "from sklearn.experimental import enable_iterative_imputer\n",
    "from sklearn.impute import IterativeImputer\n",
    "from sklearn.compose import ColumnTransformer\n",
    "\n",
    "# constants\n",
    "data_fname = \"../data/NormativeODI_DATA_2024-01-04_1611.csv\"\n",
    "os.getcwd()"
   ]
  },
  {
   "cell_type": "code",
   "execution_count": 2,
   "id": "ab101675-368d-4ddf-8012-76974e735caa",
   "metadata": {},
   "outputs": [
    {
     "data": {
      "text/plain": [
       "(218, 29)"
      ]
     },
     "execution_count": 2,
     "metadata": {},
     "output_type": "execute_result"
    }
   ],
   "source": [
    "data = pd.read_csv(os.path.join(os.getcwd(), data_fname))\n",
    "data.shape"
   ]
  },
  {
   "cell_type": "code",
   "execution_count": 17,
   "id": "6da211ba-d370-4edc-8cab-c052ea66d81c",
   "metadata": {},
   "outputs": [],
   "source": [
    "def filter_df_by_attention_check(data:pd.DataFrame, col_start: int, col_end: int, tol:int) -> pd.DataFrame:\n",
    "    \"\"\"\n",
    "    Filter a pandas data frame of survey responses for rows where the attention check is passed.\n",
    "\n",
    "    args:\n",
    "        data: pd.DataFrame\n",
    "            Survey responses. Columns may vary.\n",
    "        col_start: int\n",
    "            The column index where the attention check question starts.\n",
    "        col_end: int \n",
    "            The column index where the attention check question ends.\n",
    "        tol: int\n",
    "            The exact number of choices that must be selected to pass the attention check\n",
    "\n",
    "    returns: pd.DataFrame - only survey responses that passed the attention check\n",
    "    \"\"\"\n",
    "\n",
    "    subset = data.iloc[:, col_start:col_end]\n",
    "    result = (subset == 1).sum(axis=1) == tol\n",
    "    print(f\"{result.mean()*100:.2f} percent of responses passed the attention check.\")\n",
    "    return subset[result].filter(regex=\"/(attention_check)\", axis = 1)"
   ]
  },
  {
   "cell_type": "code",
   "execution_count": 10,
   "id": "ded492a7",
   "metadata": {},
   "outputs": [],
   "source": [
    "def verify_age(data:pd.DataFrame, col_idx: int) -> pd.DataFrame:\n",
    "    \"\"\"\n",
    "    Filter a pandas data frame of survey responses for rows where the age is reasonable.\n",
    "\n",
    "    args:\n",
    "        data: pd.DataFrame\n",
    "            Survey responses. Columns may vary.\n",
    "        col_idx: int\n",
    "            The column index that contain responses for the respondent's age\n",
    "\n",
    "    returns: pd.DataFrame - only survey responses where the respondent age is reasonable     \n",
    "    \"\"\"\n",
    "    subset = data.iloc[:, col_idx]\n",
    "    result = (subset.iloc[:, 3] <= 122) | (subset.iloc[:, 3] >= 0)\n",
    "    print(f\"{result.mean()*100:.2f} percent of responses passed the attention check.\")\n",
    "    return result\n"
   ]
  },
  {
   "cell_type": "code",
   "execution_count": 18,
   "id": "c2ac97aa-ed94-466f-9c64-7018e239b70e",
   "metadata": {},
   "outputs": [
    {
     "name": "stdout",
     "output_type": "stream",
     "text": [
      "83.94 percent of responses passed the attention check.\n"
     ]
    },
    {
     "data": {
      "text/html": [
       "<div>\n",
       "<style scoped>\n",
       "    .dataframe tbody tr th:only-of-type {\n",
       "        vertical-align: middle;\n",
       "    }\n",
       "\n",
       "    .dataframe tbody tr th {\n",
       "        vertical-align: top;\n",
       "    }\n",
       "\n",
       "    .dataframe thead th {\n",
       "        text-align: right;\n",
       "    }\n",
       "</style>\n",
       "<table border=\"1\" class=\"dataframe\">\n",
       "  <thead>\n",
       "    <tr style=\"text-align: right;\">\n",
       "      <th></th>\n",
       "      <th>attention_check___1</th>\n",
       "      <th>attention_check___2</th>\n",
       "      <th>attention_check___3</th>\n",
       "      <th>attention_check___4</th>\n",
       "      <th>attention_check___5</th>\n",
       "      <th>attention_check___6</th>\n",
       "    </tr>\n",
       "  </thead>\n",
       "  <tbody>\n",
       "    <tr>\n",
       "      <th>1</th>\n",
       "      <td>1</td>\n",
       "      <td>1</td>\n",
       "      <td>0</td>\n",
       "      <td>1</td>\n",
       "      <td>1</td>\n",
       "      <td>0</td>\n",
       "    </tr>\n",
       "    <tr>\n",
       "      <th>3</th>\n",
       "      <td>1</td>\n",
       "      <td>0</td>\n",
       "      <td>0</td>\n",
       "      <td>1</td>\n",
       "      <td>1</td>\n",
       "      <td>1</td>\n",
       "    </tr>\n",
       "    <tr>\n",
       "      <th>4</th>\n",
       "      <td>1</td>\n",
       "      <td>1</td>\n",
       "      <td>1</td>\n",
       "      <td>1</td>\n",
       "      <td>0</td>\n",
       "      <td>0</td>\n",
       "    </tr>\n",
       "    <tr>\n",
       "      <th>5</th>\n",
       "      <td>1</td>\n",
       "      <td>1</td>\n",
       "      <td>1</td>\n",
       "      <td>1</td>\n",
       "      <td>0</td>\n",
       "      <td>0</td>\n",
       "    </tr>\n",
       "    <tr>\n",
       "      <th>6</th>\n",
       "      <td>1</td>\n",
       "      <td>1</td>\n",
       "      <td>1</td>\n",
       "      <td>1</td>\n",
       "      <td>0</td>\n",
       "      <td>0</td>\n",
       "    </tr>\n",
       "  </tbody>\n",
       "</table>\n",
       "</div>"
      ],
      "text/plain": [
       "   attention_check___1  attention_check___2  attention_check___3  \\\n",
       "1                    1                    1                    0   \n",
       "3                    1                    0                    0   \n",
       "4                    1                    1                    1   \n",
       "5                    1                    1                    1   \n",
       "6                    1                    1                    1   \n",
       "\n",
       "   attention_check___4  attention_check___5  attention_check___6  \n",
       "1                    1                    1                    0  \n",
       "3                    1                    1                    1  \n",
       "4                    1                    0                    0  \n",
       "5                    1                    0                    0  \n",
       "6                    1                    0                    0  "
      ]
     },
     "execution_count": 18,
     "metadata": {},
     "output_type": "execute_result"
    }
   ],
   "source": [
    "filter_df_by_attention_check(data, -7, -1, 4).head()"
   ]
  },
  {
   "cell_type": "code",
   "execution_count": null,
   "id": "7689902e-3d6e-4d19-bdac-2bb04876ae4b",
   "metadata": {},
   "outputs": [],
   "source": [
    "class DropUnbalancedFeatures(BaseEstimator, TransformerMixin):\n",
    "  \"\"\"\n",
    "  Custom scikit-learn transformer to remove features with unbalanced distribution.\n",
    "  Author: Evan Yip\n",
    "\n",
    "  Parameters\n",
    "  ----------\n",
    "  threshold : float, optional\n",
    "      The threshold for feature unbalance. Features with a dominant class percentage\n",
    "      exceeding this threshold will be dropped. Default is 0.9.\n",
    "  verbose : bool, optional\n",
    "      If True, print information about the features being removed during fit and\n",
    "      transformation. Default is True.\n",
    "\n",
    "  Attributes\n",
    "  ----------\n",
    "  threshold : float\n",
    "      The specified threshold for feature unbalance.\n",
    "  verbose : bool\n",
    "      Flag indicating whether to print information during fit and transform.\n",
    "  columns : list or None\n",
    "      List of feature names if input data is a DataFrame, otherwise None.\n",
    "  features_kept : list\n",
    "      Indices of features kept after applying the unbalance threshold.\n",
    "  features_dropped : list\n",
    "      Indices of features dropped after applying the unbalance threshold.\n",
    "\n",
    "  Methods\n",
    "  -------\n",
    "  fit(X, y=None)\n",
    "      Fit the transformer to the input data, identifying unbalanced features.\n",
    "  transform(X)\n",
    "      Transform the input data by keeping only the balanced features.\n",
    "  get_feature_names_out(input_features=None)\n",
    "      Return the names of the output features.\n",
    "\n",
    "  Notes\n",
    "  -----\n",
    "  - The transformer identifies features with a dominant class percentage exceeding\n",
    "    the specified threshold and drops them.\n",
    "  - The fit method prints information about the removed features if verbose is True.\n",
    "\n",
    "  Examples\n",
    "  --------\n",
    "  >>> transformer = DropUnbalancedFeatures(threshold=0.85, verbose=True)\n",
    "  >>> X_balanced = transformer.fit_transform(X_unbalanced)\n",
    "  \"\"\"\n",
    "  def __init__(self, threshold=0.9, verbose=True):\n",
    "    self.threshold = threshold\n",
    "    self.verbose = verbose\n",
    "    self.columns = None\n",
    "    self.features_kept = []\n",
    "    self.features_dropped = []\n",
    "\n",
    "  def fit(self, X, y=None):\n",
    "    if self.verbose:\n",
    "      print(f\"Removing unbalanced features with (threshold={self.threshold})\")\n",
    "    X = X.copy()\n",
    "    if isinstance(X, pd.DataFrame):\n",
    "      self.columns = list(X.columns)\n",
    "    else:\n",
    "      self.columns = None\n",
    "    self.features_dropped = []\n",
    "    for col_idx in range(X.shape[1]):\n",
    "      counts = np.unique(X.iloc[:, col_idx] if isinstance(X, pd.DataFrame) else X[:, col_idx], return_counts=True)[1]\n",
    "      percent = counts / counts.sum()\n",
    "\n",
    "      if (percent > self.threshold).any():\n",
    "          self.features_dropped.append(col_idx)\n",
    "      else:\n",
    "          self.features_kept.append(col_idx)\n",
    "    if self.verbose:\n",
    "      print(\"Parsing complete\")\n",
    "    return self\n",
    "\n",
    "  def transform(self, X):\n",
    "    if self.verbose:\n",
    "      if len(self.features_dropped) > 0:\n",
    "        print(f\"Removed: {self.features_dropped}\")\n",
    "      else:\n",
    "        print(\"No features removed\")\n",
    "    return X.iloc[:, self.features_kept] if isinstance(X, pd.DataFrame) else X[:, self.features_kept]\n",
    "\n",
    "  def get_feature_names_out(self, input_features=None):\n",
    "    if self.columns is not None:\n",
    "      output_features = [self.columns[i] for i in self.features_kept]\n",
    "      return output_features\n",
    "    else:\n",
    "      output_features = [input_features[i] for i in self.features_kept]\n",
    "      return output_features"
   ]
  },
  {
   "cell_type": "code",
   "execution_count": null,
   "id": "a7afcae6",
   "metadata": {},
   "outputs": [
    {
     "data": {
      "text/plain": [
       "Index(['record_id', 'redcap_survey_identifier',\n",
       "       'assessment_of_back_pain_in_people_who_never_had_sp_timestamp', 'age',\n",
       "       'sex', 'height', 'weight_in_pounds', 'zip_code',\n",
       "       'how_physically_demanding_i', 'have_you_ever_experienced',\n",
       "       'how_have_you_addressed_add', 'please_specify', 'pain_intensity',\n",
       "       'personal_care_e_g_washing', 'lifting', 'walking', 'sitting',\n",
       "       'standing', 'sleeping', 'social_life', 'travelling',\n",
       "       'employment_homemaking', 'attention_check___1', 'attention_check___2',\n",
       "       'attention_check___3', 'attention_check___4', 'attention_check___5',\n",
       "       'attention_check___6',\n",
       "       'assessment_of_back_pain_in_people_who_never_had_sp_complete'],\n",
       "      dtype='object')"
      ]
     },
     "execution_count": 10,
     "metadata": {},
     "output_type": "execute_result"
    }
   ],
   "source": [
    "data.columns"
   ]
  },
  {
   "cell_type": "code",
   "execution_count": null,
   "id": "56f397b2",
   "metadata": {},
   "outputs": [],
   "source": [
    "ohe_cols = [\"\"]"
   ]
  },
  {
   "cell_type": "code",
   "execution_count": null,
   "id": "df03623b-dd54-4806-9a9a-79dd49443225",
   "metadata": {},
   "outputs": [
    {
     "ename": "NameError",
     "evalue": "name 'ohe_cols' is not defined",
     "output_type": "error",
     "traceback": [
      "\u001b[1;31m---------------------------------------------------------------------------\u001b[0m",
      "\u001b[1;31mNameError\u001b[0m                                 Traceback (most recent call last)",
      "Cell \u001b[1;32mIn[11], line 21\u001b[0m\n\u001b[0;32m      8\u001b[0m cat_pipe \u001b[38;5;241m=\u001b[39m Pipeline([\n\u001b[0;32m      9\u001b[0m     (\u001b[38;5;124m'\u001b[39m\u001b[38;5;124mimputer\u001b[39m\u001b[38;5;124m'\u001b[39m, SimpleImputer(strategy\u001b[38;5;241m=\u001b[39m\u001b[38;5;124m'\u001b[39m\u001b[38;5;124mconstant\u001b[39m\u001b[38;5;124m'\u001b[39m, fill_value\u001b[38;5;241m=\u001b[39m\u001b[38;5;241m0\u001b[39m)),\n\u001b[0;32m     10\u001b[0m     (\u001b[38;5;124m'\u001b[39m\u001b[38;5;124mselector\u001b[39m\u001b[38;5;124m'\u001b[39m, DropUnbalancedFeatures(threshold\u001b[38;5;241m=\u001b[39m\u001b[38;5;241m0.8\u001b[39m, verbose\u001b[38;5;241m=\u001b[39m\u001b[38;5;28;01mFalse\u001b[39;00m))\n\u001b[0;32m     11\u001b[0m ])\n\u001b[0;32m     13\u001b[0m num_pipe \u001b[38;5;241m=\u001b[39m Pipeline([\n\u001b[0;32m     14\u001b[0m     (\u001b[38;5;124m'\u001b[39m\u001b[38;5;124mimputer\u001b[39m\u001b[38;5;124m'\u001b[39m, IterativeImputer(random_state\u001b[38;5;241m=\u001b[39m\u001b[38;5;241m52\u001b[39m)),\n\u001b[0;32m     15\u001b[0m     (\u001b[38;5;124m'\u001b[39m\u001b[38;5;124mscaler\u001b[39m\u001b[38;5;124m'\u001b[39m, StandardScaler())\n\u001b[0;32m     16\u001b[0m ])\n\u001b[0;32m     19\u001b[0m preprocessor \u001b[38;5;241m=\u001b[39m ColumnTransformer(\n\u001b[0;32m     20\u001b[0m     transformers\u001b[38;5;241m=\u001b[39m[\n\u001b[1;32m---> 21\u001b[0m         (\u001b[38;5;124m'\u001b[39m\u001b[38;5;124mohe\u001b[39m\u001b[38;5;124m'\u001b[39m, ohe_pipe, \u001b[43mohe_cols\u001b[49m),\n\u001b[0;32m     22\u001b[0m         (\u001b[38;5;124m'\u001b[39m\u001b[38;5;124mcat\u001b[39m\u001b[38;5;124m'\u001b[39m, cat_pipe, cat_cols),\n\u001b[0;32m     23\u001b[0m         (\u001b[38;5;124m'\u001b[39m\u001b[38;5;124mnum\u001b[39m\u001b[38;5;124m'\u001b[39m, num_pipe, num_cols)\n\u001b[0;32m     24\u001b[0m     ])\n",
      "\u001b[1;31mNameError\u001b[0m: name 'ohe_cols' is not defined"
     ]
    }
   ],
   "source": [
    "# define preprocessing pipeline\n",
    "ohe_pipe = Pipeline([\n",
    "    ('imputer', SimpleImputer(strategy='most_frequent')),\n",
    "    ('onehot', OneHotEncoder(drop='first', sparse_output=False, handle_unknown='ignore')),\n",
    "    ('selector', DropUnbalancedFeatures(threshold=0.8, verbose=False))\n",
    "])\n",
    "\n",
    "cat_pipe = Pipeline([\n",
    "    ('imputer', SimpleImputer(strategy='constant', fill_value=0)),\n",
    "    ('selector', DropUnbalancedFeatures(threshold=0.8, verbose=False))\n",
    "])\n",
    "\n",
    "num_pipe = Pipeline([\n",
    "    ('imputer', IterativeImputer(random_state=52)),\n",
    "    ('scaler', StandardScaler())\n",
    "])\n",
    "\n",
    "\n",
    "preprocessor = ColumnTransformer(\n",
    "    transformers=[\n",
    "        ('ohe', ohe_pipe, ohe_cols),\n",
    "        ('cat', cat_pipe, cat_cols),\n",
    "        ('num', num_pipe, num_cols)\n",
    "    ])"
   ]
  },
  {
   "cell_type": "code",
   "execution_count": null,
   "id": "8f544c07-f2d8-4e07-b516-637802e4b0dc",
   "metadata": {},
   "outputs": [],
   "source": []
  }
 ],
 "metadata": {
  "kernelspec": {
   "display_name": "Python 3 (ipykernel)",
   "language": "python",
   "name": "python3"
  },
  "language_info": {
   "codemirror_mode": {
    "name": "ipython",
    "version": 3
   },
   "file_extension": ".py",
   "mimetype": "text/x-python",
   "name": "python",
   "nbconvert_exporter": "python",
   "pygments_lexer": "ipython3",
   "version": "3.8.18"
  }
 },
 "nbformat": 4,
 "nbformat_minor": 5
}
