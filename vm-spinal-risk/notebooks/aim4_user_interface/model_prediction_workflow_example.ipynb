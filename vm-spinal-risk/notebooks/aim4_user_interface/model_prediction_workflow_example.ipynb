{
 "cells": [
  {
   "cell_type": "markdown",
   "metadata": {},
   "source": [
    "### Model Prediction Workflow \n",
    "**Author:** Evan Yip <br>\n",
    "**Purpose:** The primary purpose of this notebook is to give an example of how to use the trained machine learning models from this project."
   ]
  },
  {
   "cell_type": "code",
   "execution_count": 4,
   "metadata": {},
   "outputs": [
    {
     "data": {
      "text/plain": [
       "<module 'utilities.data_processing' from '/Users/evan/Documents/School/MSDS/msds-capstone/vm-spinal-risk/vm-spinal-risk/utilities/data_processing.py'>"
      ]
     },
     "execution_count": 4,
     "metadata": {},
     "output_type": "execute_result"
    }
   ],
   "source": [
    "import os\n",
    "import pandas as pd\n",
    "\n",
    "##########################################################################################\n",
    "#######       Set the current working directory to the root of your project     ##########\n",
    "os.chdir(\"/Users/evan/Documents/School/MSDS/msds-capstone/vm-spinal-risk/vm-spinal-risk/\")\n",
    "##########################################################################################\n",
    "\n",
    "# Import local modules\n",
    "from utilities import data_processing as dp_utils\n",
    "from utilities.drop_unbalanced_features import DropUnbalancedFeatures\n",
    "from utilities.ml_models import predict_choice_model, predict_risk_model\n",
    "\n",
    "# For reload purposes\n",
    "import importlib\n",
    "importlib.reload(dp_utils)"
   ]
  },
  {
   "cell_type": "markdown",
   "metadata": {},
   "source": [
    "#### Step 1: Read in the new data"
   ]
  },
  {
   "cell_type": "code",
   "execution_count": 2,
   "metadata": {},
   "outputs": [
    {
     "name": "stdout",
     "output_type": "stream",
     "text": [
      "Extracting latitude and longitude information.\n"
     ]
    },
    {
     "name": "stderr",
     "output_type": "stream",
     "text": [
      "100%|██████████| 5/5 [00:04<00:00,  1.07it/s]\n"
     ]
    },
    {
     "name": "stdout",
     "output_type": "stream",
     "text": [
      "Extracting FIPS code.\n"
     ]
    },
    {
     "name": "stderr",
     "output_type": "stream",
     "text": [
      "5it [00:02,  2.29it/s]\n"
     ]
    }
   ],
   "source": [
    "df = pd.read_csv('./data/feature_testing/dummy_data.csv')"
   ]
  },
  {
   "cell_type": "markdown",
   "metadata": {},
   "source": [
    "#### Step 2: Extract the relevant data features"
   ]
  },
  {
   "cell_type": "code",
   "execution_count": null,
   "metadata": {},
   "outputs": [],
   "source": [
    "df_features = dp_utils.get_data_features(df)"
   ]
  },
  {
   "cell_type": "markdown",
   "metadata": {},
   "source": [
    "#### Step 3: Predict the patient's choice or risk score"
   ]
  },
  {
   "cell_type": "code",
   "execution_count": 5,
   "metadata": {},
   "outputs": [
    {
     "data": {
      "text/plain": [
       "array([4, 4, 0, 4, 4])"
      ]
     },
     "execution_count": 5,
     "metadata": {},
     "output_type": "execute_result"
    }
   ],
   "source": [
    "# Given a specific surgery scenario (e.g. 5% improvement in work with 10% chance of food drop) and demographics, ODI, DOSPERT etc.\n",
    "predict_choice_model(df_features)"
   ]
  },
  {
   "cell_type": "code",
   "execution_count": 6,
   "metadata": {},
   "outputs": [
    {
     "data": {
      "text/plain": [
       "array([0.16519342, 0.17023893, 0.18444991, 0.17674731, 0.16904472])"
      ]
     },
     "execution_count": 6,
     "metadata": {},
     "output_type": "execute_result"
    }
   ],
   "source": [
    "predict_risk_model(df_features)"
   ]
  }
 ],
 "metadata": {
  "kernelspec": {
   "display_name": "vm_spinal_risk_env",
   "language": "python",
   "name": "python3"
  },
  "language_info": {
   "codemirror_mode": {
    "name": "ipython",
    "version": 3
   },
   "file_extension": ".py",
   "mimetype": "text/x-python",
   "name": "python",
   "nbconvert_exporter": "python",
   "pygments_lexer": "ipython3",
   "version": "3.8.18"
  }
 },
 "nbformat": 4,
 "nbformat_minor": 2
}
