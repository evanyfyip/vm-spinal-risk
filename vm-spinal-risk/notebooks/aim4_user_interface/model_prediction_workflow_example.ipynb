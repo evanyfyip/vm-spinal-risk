{
 "cells": [
  {
   "cell_type": "markdown",
   "metadata": {},
   "source": [
    "### Model Prediction Workflow \n",
    "**Author:** Evan Yip <br>\n",
    "**Purpose:** The primary purpose of this notebook is to give an example of how to use the trained machine learning models from this project."
   ]
  },
  {
   "cell_type": "code",
   "execution_count": 1,
   "metadata": {},
   "outputs": [
    {
     "data": {
      "text/plain": [
       "<module 'utilities.data_processing' from 'C:\\\\Users\\\\james\\\\vm-spinal-risk\\\\vm-spinal-risk\\\\utilities\\\\data_processing.py'>"
      ]
     },
     "execution_count": 1,
     "metadata": {},
     "output_type": "execute_result"
    }
   ],
   "source": [
    "import os\n",
    "import pandas as pd\n",
    "\n",
    "##########################################################################################\n",
    "#######       Set the current working directory to the root of your project     ##########\n",
    "os.chdir(os.path.dirname(os.path.dirname(os.path.dirname(__file__))))\n",
    "##########################################################################################\n",
    "\n",
    "# Import local modules\n",
    "from utilities import data_processing as dp_utils\n",
    "# from utilities.drop_unbalanced_features import DropUnbalancedFeatures\n",
    "from utilities.ml_models import predict_choice_model, predict_risk_model\n",
    "\n",
    "# For reload purposes\n",
    "import importlib\n",
    "importlib.reload(dp_utils)"
   ]
  },
  {
   "cell_type": "markdown",
   "metadata": {},
   "source": [
    "#### Step 1: Read in the new data"
   ]
  },
  {
   "cell_type": "code",
   "execution_count": 2,
   "metadata": {},
   "outputs": [],
   "source": [
    "df = pd.read_csv('./data/feature_testing/dummy_data.csv')"
   ]
  },
  {
   "cell_type": "markdown",
   "metadata": {},
   "source": [
    "#### Step 2: Extract the relevant data features"
   ]
  },
  {
   "cell_type": "code",
   "execution_count": 3,
   "metadata": {},
   "outputs": [
    {
     "name": "stdout",
     "output_type": "stream",
     "text": [
      "Extracting latitude and longitude information.\n"
     ]
    },
    {
     "name": "stderr",
     "output_type": "stream",
     "text": [
      "100%|█████████████████████████████████████████████████████████████████████████████████████████████████| 5/5 [00:07<00:00,  1.41s/it]\n"
     ]
    },
    {
     "name": "stdout",
     "output_type": "stream",
     "text": [
      "Extracting FIPS code.\n"
     ]
    },
    {
     "name": "stderr",
     "output_type": "stream",
     "text": [
      "5it [00:05,  1.15s/it]\n"
     ]
    }
   ],
   "source": [
    "df_features = dp_utils.get_data_features(df)"
   ]
  },
  {
   "cell_type": "markdown",
   "metadata": {},
   "source": [
    "#### Step 3: Predict the patient's choice or risk score"
   ]
  },
  {
   "cell_type": "code",
   "execution_count": 4,
   "metadata": {},
   "outputs": [],
   "source": [
    "# Given a specific surgery scenario (e.g. 5% improvement in work with 10% chance of food drop) and demographics, ODI, DOSPERT etc.\n",
    "# predict_choice_model(df_features)"
   ]
  },
  {
   "cell_type": "code",
   "execution_count": 5,
   "metadata": {},
   "outputs": [
    {
     "ename": "AttributeError",
     "evalue": "Can't get attribute 'DropUnbalancedFeatures' on <module '__main__'>",
     "output_type": "error",
     "traceback": [
      "\u001b[1;31m---------------------------------------------------------------------------\u001b[0m",
      "\u001b[1;31mAttributeError\u001b[0m                            Traceback (most recent call last)",
      "Cell \u001b[1;32mIn[5], line 1\u001b[0m\n\u001b[1;32m----> 1\u001b[0m \u001b[43mpredict_risk_model\u001b[49m\u001b[43m(\u001b[49m\u001b[43mdf_features\u001b[49m\u001b[43m)\u001b[49m\n",
      "File \u001b[1;32m~\\vm-spinal-risk\\vm-spinal-risk\\utilities\\ml_models.py:7\u001b[0m, in \u001b[0;36mpredict_risk_model\u001b[1;34m(df)\u001b[0m\n\u001b[0;32m      5\u001b[0m \u001b[38;5;28;01mdef\u001b[39;00m \u001b[38;5;21mpredict_risk_model\u001b[39m(df):\n\u001b[0;32m      6\u001b[0m \u001b[38;5;250m    \u001b[39m\u001b[38;5;124;03m\"\"\"Applies transformations and calls the risk model\"\"\"\u001b[39;00m\n\u001b[1;32m----> 7\u001b[0m     X \u001b[38;5;241m=\u001b[39m \u001b[43mml_model_prep\u001b[49m\u001b[43m(\u001b[49m\u001b[43mdf\u001b[49m\u001b[43m,\u001b[49m\u001b[43m \u001b[49m\u001b[43mmodel_type\u001b[49m\u001b[38;5;241;43m=\u001b[39;49m\u001b[38;5;124;43m'\u001b[39;49m\u001b[38;5;124;43mrisk_model\u001b[39;49m\u001b[38;5;124;43m'\u001b[39;49m\u001b[43m)\u001b[49m\n\u001b[0;32m      8\u001b[0m     \u001b[38;5;66;03m# Load the pickle and apply it\u001b[39;00m\n\u001b[0;32m      9\u001b[0m     \u001b[38;5;28;01mwith\u001b[39;00m \u001b[38;5;28mopen\u001b[39m(\u001b[38;5;124m'\u001b[39m\u001b[38;5;124m./data/ml_models/risk_model.pkl\u001b[39m\u001b[38;5;124m'\u001b[39m, \u001b[38;5;124m'\u001b[39m\u001b[38;5;124mrb\u001b[39m\u001b[38;5;124m'\u001b[39m) \u001b[38;5;28;01mas\u001b[39;00m f:\n",
      "File \u001b[1;32m~\\vm-spinal-risk\\vm-spinal-risk\\utilities\\data_processing.py:502\u001b[0m, in \u001b[0;36mml_model_prep\u001b[1;34m(df, model_type)\u001b[0m\n\u001b[0;32m    500\u001b[0m \u001b[38;5;66;03m# Load the ML data processing pipeline\u001b[39;00m\n\u001b[0;32m    501\u001b[0m \u001b[38;5;28;01mwith\u001b[39;00m \u001b[38;5;28mopen\u001b[39m(\u001b[38;5;124m'\u001b[39m\u001b[38;5;124m./data/ml_models/general_model_preprocessor.pkl\u001b[39m\u001b[38;5;124m'\u001b[39m, \u001b[38;5;124m'\u001b[39m\u001b[38;5;124mrb\u001b[39m\u001b[38;5;124m'\u001b[39m) \u001b[38;5;28;01mas\u001b[39;00m f:\n\u001b[1;32m--> 502\u001b[0m     ml_data_processor \u001b[38;5;241m=\u001b[39m \u001b[43mpickle\u001b[49m\u001b[38;5;241;43m.\u001b[39;49m\u001b[43mload\u001b[49m\u001b[43m(\u001b[49m\u001b[43mf\u001b[49m\u001b[43m)\u001b[49m\n\u001b[0;32m    503\u001b[0m processed_df \u001b[38;5;241m=\u001b[39m preprocessing(df)\n\u001b[0;32m    504\u001b[0m ml_df \u001b[38;5;241m=\u001b[39m ml_data_processor\u001b[38;5;241m.\u001b[39mtransform(processed_df)\n",
      "\u001b[1;31mAttributeError\u001b[0m: Can't get attribute 'DropUnbalancedFeatures' on <module '__main__'>"
     ]
    }
   ],
   "source": [
    "predict_risk_model(df_features)"
   ]
  }
 ],
 "metadata": {
  "kernelspec": {
   "display_name": "Python 3 (ipykernel)",
   "language": "python",
   "name": "python3"
  },
  "language_info": {
   "codemirror_mode": {
    "name": "ipython",
    "version": 3
   },
   "file_extension": ".py",
   "mimetype": "text/x-python",
   "name": "python",
   "nbconvert_exporter": "python",
   "pygments_lexer": "ipython3",
   "version": "3.8.18"
  }
 },
 "nbformat": 4,
 "nbformat_minor": 4
}
