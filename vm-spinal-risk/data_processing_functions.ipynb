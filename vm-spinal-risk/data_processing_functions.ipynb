{
 "cells": [
  {
   "cell_type": "code",
   "execution_count": 1,
   "id": "e9e37ddd",
   "metadata": {},
   "outputs": [
    {
     "data": {
      "text/plain": [
       "'C:\\\\Users\\\\james\\\\vm-spinal-risk\\\\vm-spinal-risk'"
      ]
     },
     "execution_count": 1,
     "metadata": {},
     "output_type": "execute_result"
    }
   ],
   "source": [
    "# libraries\n",
    "import pandas as pd\n",
    "import numpy as np\n",
    "import os\n",
    "\n",
    "# constants\n",
    "data_fname = \"data/NormativeODI_DATA_2024-01-04_1611.csv\"\n",
    "os.getcwd()"
   ]
  },
  {
   "cell_type": "code",
   "execution_count": 2,
   "id": "ab101675-368d-4ddf-8012-76974e735caa",
   "metadata": {},
   "outputs": [
    {
     "data": {
      "text/plain": [
       "(218, 29)"
      ]
     },
     "execution_count": 2,
     "metadata": {},
     "output_type": "execute_result"
    }
   ],
   "source": [
    "data = pd.read_csv(os.path.join(os.getcwd(), data_fname))\n",
    "data.shape"
   ]
  },
  {
   "cell_type": "code",
   "execution_count": 3,
   "id": "6da211ba-d370-4edc-8cab-c052ea66d81c",
   "metadata": {},
   "outputs": [],
   "source": [
    "def filter_df_by_attention_check(data:pd.DataFrame, col_start, col_end, tol:int):\n",
    "    \"\"\"\n",
    "    Filter a pandas data frame of survey responses for rows where the attention check is passed.\n",
    "\n",
    "    args:\n",
    "        data: pd.DataFrame\n",
    "            Survey responses. Columns may vary.\n",
    "        col_start: int\n",
    "            The column index where the attention check question starts.\n",
    "        col_end: int \n",
    "            The column index where the attention check question ends.\n",
    "        tol: int\n",
    "            The exact number of choices that must be selected to pass the attention check\n",
    "    \"\"\"\n",
    "\n",
    "    subset = data.iloc[:, col_start:col_end]\n",
    "    result = (subset == 1).sum(axis=1) == tol\n",
    "    print(f\"{result.mean()*100:.2f} percent of responses passed the attention check.\")\n",
    "    return subset[result]\n",
    "    "
   ]
  },
  {
   "cell_type": "code",
   "execution_count": 4,
   "id": "c2ac97aa-ed94-466f-9c64-7018e239b70e",
   "metadata": {},
   "outputs": [
    {
     "name": "stdout",
     "output_type": "stream",
     "text": [
      "83.94 percent of responses passed the attention check.\n"
     ]
    },
    {
     "data": {
      "text/html": [
       "<div>\n",
       "<style scoped>\n",
       "    .dataframe tbody tr th:only-of-type {\n",
       "        vertical-align: middle;\n",
       "    }\n",
       "\n",
       "    .dataframe tbody tr th {\n",
       "        vertical-align: top;\n",
       "    }\n",
       "\n",
       "    .dataframe thead th {\n",
       "        text-align: right;\n",
       "    }\n",
       "</style>\n",
       "<table border=\"1\" class=\"dataframe\">\n",
       "  <thead>\n",
       "    <tr style=\"text-align: right;\">\n",
       "      <th></th>\n",
       "      <th>attention_check___1</th>\n",
       "      <th>attention_check___2</th>\n",
       "      <th>attention_check___3</th>\n",
       "      <th>attention_check___4</th>\n",
       "      <th>attention_check___5</th>\n",
       "      <th>attention_check___6</th>\n",
       "    </tr>\n",
       "  </thead>\n",
       "  <tbody>\n",
       "    <tr>\n",
       "      <th>1</th>\n",
       "      <td>1</td>\n",
       "      <td>1</td>\n",
       "      <td>0</td>\n",
       "      <td>1</td>\n",
       "      <td>1</td>\n",
       "      <td>0</td>\n",
       "    </tr>\n",
       "    <tr>\n",
       "      <th>3</th>\n",
       "      <td>1</td>\n",
       "      <td>0</td>\n",
       "      <td>0</td>\n",
       "      <td>1</td>\n",
       "      <td>1</td>\n",
       "      <td>1</td>\n",
       "    </tr>\n",
       "    <tr>\n",
       "      <th>4</th>\n",
       "      <td>1</td>\n",
       "      <td>1</td>\n",
       "      <td>1</td>\n",
       "      <td>1</td>\n",
       "      <td>0</td>\n",
       "      <td>0</td>\n",
       "    </tr>\n",
       "    <tr>\n",
       "      <th>5</th>\n",
       "      <td>1</td>\n",
       "      <td>1</td>\n",
       "      <td>1</td>\n",
       "      <td>1</td>\n",
       "      <td>0</td>\n",
       "      <td>0</td>\n",
       "    </tr>\n",
       "    <tr>\n",
       "      <th>6</th>\n",
       "      <td>1</td>\n",
       "      <td>1</td>\n",
       "      <td>1</td>\n",
       "      <td>1</td>\n",
       "      <td>0</td>\n",
       "      <td>0</td>\n",
       "    </tr>\n",
       "    <tr>\n",
       "      <th>...</th>\n",
       "      <td>...</td>\n",
       "      <td>...</td>\n",
       "      <td>...</td>\n",
       "      <td>...</td>\n",
       "      <td>...</td>\n",
       "      <td>...</td>\n",
       "    </tr>\n",
       "    <tr>\n",
       "      <th>212</th>\n",
       "      <td>0</td>\n",
       "      <td>1</td>\n",
       "      <td>1</td>\n",
       "      <td>0</td>\n",
       "      <td>1</td>\n",
       "      <td>1</td>\n",
       "    </tr>\n",
       "    <tr>\n",
       "      <th>213</th>\n",
       "      <td>1</td>\n",
       "      <td>1</td>\n",
       "      <td>1</td>\n",
       "      <td>1</td>\n",
       "      <td>0</td>\n",
       "      <td>0</td>\n",
       "    </tr>\n",
       "    <tr>\n",
       "      <th>214</th>\n",
       "      <td>1</td>\n",
       "      <td>1</td>\n",
       "      <td>1</td>\n",
       "      <td>1</td>\n",
       "      <td>0</td>\n",
       "      <td>0</td>\n",
       "    </tr>\n",
       "    <tr>\n",
       "      <th>215</th>\n",
       "      <td>1</td>\n",
       "      <td>1</td>\n",
       "      <td>0</td>\n",
       "      <td>1</td>\n",
       "      <td>0</td>\n",
       "      <td>1</td>\n",
       "    </tr>\n",
       "    <tr>\n",
       "      <th>216</th>\n",
       "      <td>1</td>\n",
       "      <td>1</td>\n",
       "      <td>1</td>\n",
       "      <td>1</td>\n",
       "      <td>0</td>\n",
       "      <td>0</td>\n",
       "    </tr>\n",
       "  </tbody>\n",
       "</table>\n",
       "<p>183 rows × 6 columns</p>\n",
       "</div>"
      ],
      "text/plain": [
       "     attention_check___1  attention_check___2  attention_check___3  \\\n",
       "1                      1                    1                    0   \n",
       "3                      1                    0                    0   \n",
       "4                      1                    1                    1   \n",
       "5                      1                    1                    1   \n",
       "6                      1                    1                    1   \n",
       "..                   ...                  ...                  ...   \n",
       "212                    0                    1                    1   \n",
       "213                    1                    1                    1   \n",
       "214                    1                    1                    1   \n",
       "215                    1                    1                    0   \n",
       "216                    1                    1                    1   \n",
       "\n",
       "     attention_check___4  attention_check___5  attention_check___6  \n",
       "1                      1                    1                    0  \n",
       "3                      1                    1                    1  \n",
       "4                      1                    0                    0  \n",
       "5                      1                    0                    0  \n",
       "6                      1                    0                    0  \n",
       "..                   ...                  ...                  ...  \n",
       "212                    0                    1                    1  \n",
       "213                    1                    0                    0  \n",
       "214                    1                    0                    0  \n",
       "215                    1                    0                    1  \n",
       "216                    1                    0                    0  \n",
       "\n",
       "[183 rows x 6 columns]"
      ]
     },
     "execution_count": 4,
     "metadata": {},
     "output_type": "execute_result"
    }
   ],
   "source": [
    "filter_df_by_attention_check(data, -7, -1, 4)"
   ]
  }
 ],
 "metadata": {
  "kernelspec": {
   "display_name": "Python 3 (ipykernel)",
   "language": "python",
   "name": "python3"
  },
  "language_info": {
   "codemirror_mode": {
    "name": "ipython",
    "version": 3
   },
   "file_extension": ".py",
   "mimetype": "text/x-python",
   "name": "python",
   "nbconvert_exporter": "python",
   "pygments_lexer": "ipython3",
   "version": "3.9.12"
  }
 },
 "nbformat": 4,
 "nbformat_minor": 5
}
